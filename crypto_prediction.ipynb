{
  "cells": [
    {
      "cell_type": "markdown",
      "source": [
        "# About the notebook"
      ],
      "metadata": {
        "id": "B9676TOKeXGU"
      }
    },
    {
      "cell_type": "markdown",
      "source": [
        "The code in the notebook aims to predict the price of bitcoin\n",
        "after 3 minutes given the data of its price for the past 30 min. \n",
        "This is done by using a recurrent neural network. We can expect a \n",
        "low accuracy because of the variance of the dataset."
      ],
      "metadata": {
        "id": "oFefcOh8eeTh"
      }
    },
    {
      "cell_type": "markdown",
      "source": [
        "# Importing the needed libraries"
      ],
      "metadata": {
        "id": "P2DyVEFobeZP"
      }
    },
    {
      "cell_type": "code",
      "execution_count": 102,
      "metadata": {
        "id": "Gi7Y7SwGsij2"
      },
      "outputs": [],
      "source": [
        "import pandas as pd\n",
        "from sklearn import preprocessing \n",
        "from collections import deque \n",
        "import random \n",
        "import numpy as np\n",
        "import matplotlib.pyplot as plt \n",
        "import time\n",
        "import matplotlib.pyplot as plt\n",
        "\n",
        "import tensorflow \n",
        "\n",
        "from sklearn.metrics import classification_report, confusion_matrix\n",
        "import seaborn as sn\n"
      ]
    },
    {
      "cell_type": "markdown",
      "metadata": {
        "id": "bTuURwXG6JDK"
      },
      "source": [
        "# Creating the dataset"
      ]
    },
    {
      "cell_type": "code",
      "execution_count": 64,
      "metadata": {
        "id": "yts196vdK2lj"
      },
      "outputs": [],
      "source": [
        "df = pd.read_csv('BTC-USD.csv', names=['time', 'low', 'high', 'open', 'close', 'volume'])"
      ]
    },
    {
      "cell_type": "code",
      "execution_count": 65,
      "metadata": {
        "colab": {
          "base_uri": "https://localhost:8080/",
          "height": 206
        },
        "id": "UuwWGcsh23Qb",
        "outputId": "cf670792-4c59-48de-8a10-4914885221c1"
      },
      "outputs": [
        {
          "output_type": "execute_result",
          "data": {
            "text/plain": [
              "         time          low         high         open        close    volume\n",
              "0  1528968660  6489.549805  6489.560059  6489.560059  6489.549805  0.587100\n",
              "1  1528968720  6487.370117  6489.560059  6489.549805  6487.379883  7.706374\n",
              "2  1528968780  6479.410156  6487.370117  6487.370117  6479.410156  3.088252\n",
              "3  1528968840  6479.410156  6479.419922  6479.419922  6479.410156  1.404100\n",
              "4  1528968900  6475.930176  6479.979980  6479.410156  6479.979980  0.753000"
            ],
            "text/html": [
              "\n",
              "  <div id=\"df-959f0a56-e82d-43f9-9cdf-8e0789af948e\">\n",
              "    <div class=\"colab-df-container\">\n",
              "      <div>\n",
              "<style scoped>\n",
              "    .dataframe tbody tr th:only-of-type {\n",
              "        vertical-align: middle;\n",
              "    }\n",
              "\n",
              "    .dataframe tbody tr th {\n",
              "        vertical-align: top;\n",
              "    }\n",
              "\n",
              "    .dataframe thead th {\n",
              "        text-align: right;\n",
              "    }\n",
              "</style>\n",
              "<table border=\"1\" class=\"dataframe\">\n",
              "  <thead>\n",
              "    <tr style=\"text-align: right;\">\n",
              "      <th></th>\n",
              "      <th>time</th>\n",
              "      <th>low</th>\n",
              "      <th>high</th>\n",
              "      <th>open</th>\n",
              "      <th>close</th>\n",
              "      <th>volume</th>\n",
              "    </tr>\n",
              "  </thead>\n",
              "  <tbody>\n",
              "    <tr>\n",
              "      <th>0</th>\n",
              "      <td>1528968660</td>\n",
              "      <td>6489.549805</td>\n",
              "      <td>6489.560059</td>\n",
              "      <td>6489.560059</td>\n",
              "      <td>6489.549805</td>\n",
              "      <td>0.587100</td>\n",
              "    </tr>\n",
              "    <tr>\n",
              "      <th>1</th>\n",
              "      <td>1528968720</td>\n",
              "      <td>6487.370117</td>\n",
              "      <td>6489.560059</td>\n",
              "      <td>6489.549805</td>\n",
              "      <td>6487.379883</td>\n",
              "      <td>7.706374</td>\n",
              "    </tr>\n",
              "    <tr>\n",
              "      <th>2</th>\n",
              "      <td>1528968780</td>\n",
              "      <td>6479.410156</td>\n",
              "      <td>6487.370117</td>\n",
              "      <td>6487.370117</td>\n",
              "      <td>6479.410156</td>\n",
              "      <td>3.088252</td>\n",
              "    </tr>\n",
              "    <tr>\n",
              "      <th>3</th>\n",
              "      <td>1528968840</td>\n",
              "      <td>6479.410156</td>\n",
              "      <td>6479.419922</td>\n",
              "      <td>6479.419922</td>\n",
              "      <td>6479.410156</td>\n",
              "      <td>1.404100</td>\n",
              "    </tr>\n",
              "    <tr>\n",
              "      <th>4</th>\n",
              "      <td>1528968900</td>\n",
              "      <td>6475.930176</td>\n",
              "      <td>6479.979980</td>\n",
              "      <td>6479.410156</td>\n",
              "      <td>6479.979980</td>\n",
              "      <td>0.753000</td>\n",
              "    </tr>\n",
              "  </tbody>\n",
              "</table>\n",
              "</div>\n",
              "      <button class=\"colab-df-convert\" onclick=\"convertToInteractive('df-959f0a56-e82d-43f9-9cdf-8e0789af948e')\"\n",
              "              title=\"Convert this dataframe to an interactive table.\"\n",
              "              style=\"display:none;\">\n",
              "        \n",
              "  <svg xmlns=\"http://www.w3.org/2000/svg\" height=\"24px\"viewBox=\"0 0 24 24\"\n",
              "       width=\"24px\">\n",
              "    <path d=\"M0 0h24v24H0V0z\" fill=\"none\"/>\n",
              "    <path d=\"M18.56 5.44l.94 2.06.94-2.06 2.06-.94-2.06-.94-.94-2.06-.94 2.06-2.06.94zm-11 1L8.5 8.5l.94-2.06 2.06-.94-2.06-.94L8.5 2.5l-.94 2.06-2.06.94zm10 10l.94 2.06.94-2.06 2.06-.94-2.06-.94-.94-2.06-.94 2.06-2.06.94z\"/><path d=\"M17.41 7.96l-1.37-1.37c-.4-.4-.92-.59-1.43-.59-.52 0-1.04.2-1.43.59L10.3 9.45l-7.72 7.72c-.78.78-.78 2.05 0 2.83L4 21.41c.39.39.9.59 1.41.59.51 0 1.02-.2 1.41-.59l7.78-7.78 2.81-2.81c.8-.78.8-2.07 0-2.86zM5.41 20L4 18.59l7.72-7.72 1.47 1.35L5.41 20z\"/>\n",
              "  </svg>\n",
              "      </button>\n",
              "      \n",
              "  <style>\n",
              "    .colab-df-container {\n",
              "      display:flex;\n",
              "      flex-wrap:wrap;\n",
              "      gap: 12px;\n",
              "    }\n",
              "\n",
              "    .colab-df-convert {\n",
              "      background-color: #E8F0FE;\n",
              "      border: none;\n",
              "      border-radius: 50%;\n",
              "      cursor: pointer;\n",
              "      display: none;\n",
              "      fill: #1967D2;\n",
              "      height: 32px;\n",
              "      padding: 0 0 0 0;\n",
              "      width: 32px;\n",
              "    }\n",
              "\n",
              "    .colab-df-convert:hover {\n",
              "      background-color: #E2EBFA;\n",
              "      box-shadow: 0px 1px 2px rgba(60, 64, 67, 0.3), 0px 1px 3px 1px rgba(60, 64, 67, 0.15);\n",
              "      fill: #174EA6;\n",
              "    }\n",
              "\n",
              "    [theme=dark] .colab-df-convert {\n",
              "      background-color: #3B4455;\n",
              "      fill: #D2E3FC;\n",
              "    }\n",
              "\n",
              "    [theme=dark] .colab-df-convert:hover {\n",
              "      background-color: #434B5C;\n",
              "      box-shadow: 0px 1px 3px 1px rgba(0, 0, 0, 0.15);\n",
              "      filter: drop-shadow(0px 1px 2px rgba(0, 0, 0, 0.3));\n",
              "      fill: #FFFFFF;\n",
              "    }\n",
              "  </style>\n",
              "\n",
              "      <script>\n",
              "        const buttonEl =\n",
              "          document.querySelector('#df-959f0a56-e82d-43f9-9cdf-8e0789af948e button.colab-df-convert');\n",
              "        buttonEl.style.display =\n",
              "          google.colab.kernel.accessAllowed ? 'block' : 'none';\n",
              "\n",
              "        async function convertToInteractive(key) {\n",
              "          const element = document.querySelector('#df-959f0a56-e82d-43f9-9cdf-8e0789af948e');\n",
              "          const dataTable =\n",
              "            await google.colab.kernel.invokeFunction('convertToInteractive',\n",
              "                                                     [key], {});\n",
              "          if (!dataTable) return;\n",
              "\n",
              "          const docLinkHtml = 'Like what you see? Visit the ' +\n",
              "            '<a target=\"_blank\" href=https://colab.research.google.com/notebooks/data_table.ipynb>data table notebook</a>'\n",
              "            + ' to learn more about interactive tables.';\n",
              "          element.innerHTML = '';\n",
              "          dataTable['output_type'] = 'display_data';\n",
              "          await google.colab.output.renderOutput(dataTable, element);\n",
              "          const docLink = document.createElement('div');\n",
              "          docLink.innerHTML = docLinkHtml;\n",
              "          element.appendChild(docLink);\n",
              "        }\n",
              "      </script>\n",
              "    </div>\n",
              "  </div>\n",
              "  "
            ]
          },
          "metadata": {},
          "execution_count": 65
        }
      ],
      "source": [
        "df.head()"
      ]
    },
    {
      "cell_type": "code",
      "execution_count": 66,
      "metadata": {
        "colab": {
          "base_uri": "https://localhost:8080/"
        },
        "id": "gV9l2jXC27LZ",
        "outputId": "1cbd9c02-5bd4-45ca-f178-b4c3af40ff71"
      },
      "outputs": [
        {
          "output_type": "execute_result",
          "data": {
            "text/plain": [
              "(97724, 6)"
            ]
          },
          "metadata": {},
          "execution_count": 66
        }
      ],
      "source": [
        "df.shape"
      ]
    },
    {
      "cell_type": "markdown",
      "metadata": {
        "id": "AtpHvgKY2_ju"
      },
      "source": [
        "Creating the future column "
      ]
    },
    {
      "cell_type": "code",
      "execution_count": 67,
      "metadata": {
        "id": "E5Pk3wxA2-eu"
      },
      "outputs": [],
      "source": [
        "def classify(current, future):\n",
        "    if float(future) > float(current):\n",
        "        return 1\n",
        "    else:\n",
        "        return 0\n",
        "     "
      ]
    },
    {
      "cell_type": "code",
      "execution_count": 68,
      "metadata": {
        "colab": {
          "base_uri": "https://localhost:8080/",
          "height": 423
        },
        "id": "OGoiHBMP3mX-",
        "outputId": "0a9b71e2-9f0c-4619-dbdc-9376f0c63158"
      },
      "outputs": [
        {
          "output_type": "execute_result",
          "data": {
            "text/plain": [
              "             time          low         high         open        close  \\\n",
              "0      1528968660  6489.549805  6489.560059  6489.560059  6489.549805   \n",
              "1      1528968720  6487.370117  6489.560059  6489.549805  6487.379883   \n",
              "2      1528968780  6479.410156  6487.370117  6487.370117  6479.410156   \n",
              "3      1528968840  6479.410156  6479.419922  6479.419922  6479.410156   \n",
              "4      1528968900  6475.930176  6479.979980  6479.410156  6479.979980   \n",
              "...           ...          ...          ...          ...          ...   \n",
              "97719  1535214960  6712.990234  6713.140137  6713.000000  6713.140137   \n",
              "97720  1535215020  6713.339844  6715.000000  6715.000000  6714.520020   \n",
              "97721  1535215080  6714.509766  6714.520020  6714.520020  6714.520020   \n",
              "97722  1535215140  6714.520020  6715.000000  6714.520020  6715.000000   \n",
              "97723  1535215200  6714.990234  6715.000000  6714.990234  6715.000000   \n",
              "\n",
              "         volume       future  \n",
              "0      0.587100  6479.410156  \n",
              "1      7.706374  6479.979980  \n",
              "2      3.088252  6480.000000  \n",
              "3      1.404100  6477.220215  \n",
              "4      0.753000  6480.000000  \n",
              "...         ...          ...  \n",
              "97719  0.769891  6715.000000  \n",
              "97720  1.002652  6715.000000  \n",
              "97721  1.021925          NaN  \n",
              "97722  3.645508          NaN  \n",
              "97723  0.513560          NaN  \n",
              "\n",
              "[97724 rows x 7 columns]"
            ],
            "text/html": [
              "\n",
              "  <div id=\"df-0eb357df-9b6e-4df0-96e3-f7b30474b765\">\n",
              "    <div class=\"colab-df-container\">\n",
              "      <div>\n",
              "<style scoped>\n",
              "    .dataframe tbody tr th:only-of-type {\n",
              "        vertical-align: middle;\n",
              "    }\n",
              "\n",
              "    .dataframe tbody tr th {\n",
              "        vertical-align: top;\n",
              "    }\n",
              "\n",
              "    .dataframe thead th {\n",
              "        text-align: right;\n",
              "    }\n",
              "</style>\n",
              "<table border=\"1\" class=\"dataframe\">\n",
              "  <thead>\n",
              "    <tr style=\"text-align: right;\">\n",
              "      <th></th>\n",
              "      <th>time</th>\n",
              "      <th>low</th>\n",
              "      <th>high</th>\n",
              "      <th>open</th>\n",
              "      <th>close</th>\n",
              "      <th>volume</th>\n",
              "      <th>future</th>\n",
              "    </tr>\n",
              "  </thead>\n",
              "  <tbody>\n",
              "    <tr>\n",
              "      <th>0</th>\n",
              "      <td>1528968660</td>\n",
              "      <td>6489.549805</td>\n",
              "      <td>6489.560059</td>\n",
              "      <td>6489.560059</td>\n",
              "      <td>6489.549805</td>\n",
              "      <td>0.587100</td>\n",
              "      <td>6479.410156</td>\n",
              "    </tr>\n",
              "    <tr>\n",
              "      <th>1</th>\n",
              "      <td>1528968720</td>\n",
              "      <td>6487.370117</td>\n",
              "      <td>6489.560059</td>\n",
              "      <td>6489.549805</td>\n",
              "      <td>6487.379883</td>\n",
              "      <td>7.706374</td>\n",
              "      <td>6479.979980</td>\n",
              "    </tr>\n",
              "    <tr>\n",
              "      <th>2</th>\n",
              "      <td>1528968780</td>\n",
              "      <td>6479.410156</td>\n",
              "      <td>6487.370117</td>\n",
              "      <td>6487.370117</td>\n",
              "      <td>6479.410156</td>\n",
              "      <td>3.088252</td>\n",
              "      <td>6480.000000</td>\n",
              "    </tr>\n",
              "    <tr>\n",
              "      <th>3</th>\n",
              "      <td>1528968840</td>\n",
              "      <td>6479.410156</td>\n",
              "      <td>6479.419922</td>\n",
              "      <td>6479.419922</td>\n",
              "      <td>6479.410156</td>\n",
              "      <td>1.404100</td>\n",
              "      <td>6477.220215</td>\n",
              "    </tr>\n",
              "    <tr>\n",
              "      <th>4</th>\n",
              "      <td>1528968900</td>\n",
              "      <td>6475.930176</td>\n",
              "      <td>6479.979980</td>\n",
              "      <td>6479.410156</td>\n",
              "      <td>6479.979980</td>\n",
              "      <td>0.753000</td>\n",
              "      <td>6480.000000</td>\n",
              "    </tr>\n",
              "    <tr>\n",
              "      <th>...</th>\n",
              "      <td>...</td>\n",
              "      <td>...</td>\n",
              "      <td>...</td>\n",
              "      <td>...</td>\n",
              "      <td>...</td>\n",
              "      <td>...</td>\n",
              "      <td>...</td>\n",
              "    </tr>\n",
              "    <tr>\n",
              "      <th>97719</th>\n",
              "      <td>1535214960</td>\n",
              "      <td>6712.990234</td>\n",
              "      <td>6713.140137</td>\n",
              "      <td>6713.000000</td>\n",
              "      <td>6713.140137</td>\n",
              "      <td>0.769891</td>\n",
              "      <td>6715.000000</td>\n",
              "    </tr>\n",
              "    <tr>\n",
              "      <th>97720</th>\n",
              "      <td>1535215020</td>\n",
              "      <td>6713.339844</td>\n",
              "      <td>6715.000000</td>\n",
              "      <td>6715.000000</td>\n",
              "      <td>6714.520020</td>\n",
              "      <td>1.002652</td>\n",
              "      <td>6715.000000</td>\n",
              "    </tr>\n",
              "    <tr>\n",
              "      <th>97721</th>\n",
              "      <td>1535215080</td>\n",
              "      <td>6714.509766</td>\n",
              "      <td>6714.520020</td>\n",
              "      <td>6714.520020</td>\n",
              "      <td>6714.520020</td>\n",
              "      <td>1.021925</td>\n",
              "      <td>NaN</td>\n",
              "    </tr>\n",
              "    <tr>\n",
              "      <th>97722</th>\n",
              "      <td>1535215140</td>\n",
              "      <td>6714.520020</td>\n",
              "      <td>6715.000000</td>\n",
              "      <td>6714.520020</td>\n",
              "      <td>6715.000000</td>\n",
              "      <td>3.645508</td>\n",
              "      <td>NaN</td>\n",
              "    </tr>\n",
              "    <tr>\n",
              "      <th>97723</th>\n",
              "      <td>1535215200</td>\n",
              "      <td>6714.990234</td>\n",
              "      <td>6715.000000</td>\n",
              "      <td>6714.990234</td>\n",
              "      <td>6715.000000</td>\n",
              "      <td>0.513560</td>\n",
              "      <td>NaN</td>\n",
              "    </tr>\n",
              "  </tbody>\n",
              "</table>\n",
              "<p>97724 rows × 7 columns</p>\n",
              "</div>\n",
              "      <button class=\"colab-df-convert\" onclick=\"convertToInteractive('df-0eb357df-9b6e-4df0-96e3-f7b30474b765')\"\n",
              "              title=\"Convert this dataframe to an interactive table.\"\n",
              "              style=\"display:none;\">\n",
              "        \n",
              "  <svg xmlns=\"http://www.w3.org/2000/svg\" height=\"24px\"viewBox=\"0 0 24 24\"\n",
              "       width=\"24px\">\n",
              "    <path d=\"M0 0h24v24H0V0z\" fill=\"none\"/>\n",
              "    <path d=\"M18.56 5.44l.94 2.06.94-2.06 2.06-.94-2.06-.94-.94-2.06-.94 2.06-2.06.94zm-11 1L8.5 8.5l.94-2.06 2.06-.94-2.06-.94L8.5 2.5l-.94 2.06-2.06.94zm10 10l.94 2.06.94-2.06 2.06-.94-2.06-.94-.94-2.06-.94 2.06-2.06.94z\"/><path d=\"M17.41 7.96l-1.37-1.37c-.4-.4-.92-.59-1.43-.59-.52 0-1.04.2-1.43.59L10.3 9.45l-7.72 7.72c-.78.78-.78 2.05 0 2.83L4 21.41c.39.39.9.59 1.41.59.51 0 1.02-.2 1.41-.59l7.78-7.78 2.81-2.81c.8-.78.8-2.07 0-2.86zM5.41 20L4 18.59l7.72-7.72 1.47 1.35L5.41 20z\"/>\n",
              "  </svg>\n",
              "      </button>\n",
              "      \n",
              "  <style>\n",
              "    .colab-df-container {\n",
              "      display:flex;\n",
              "      flex-wrap:wrap;\n",
              "      gap: 12px;\n",
              "    }\n",
              "\n",
              "    .colab-df-convert {\n",
              "      background-color: #E8F0FE;\n",
              "      border: none;\n",
              "      border-radius: 50%;\n",
              "      cursor: pointer;\n",
              "      display: none;\n",
              "      fill: #1967D2;\n",
              "      height: 32px;\n",
              "      padding: 0 0 0 0;\n",
              "      width: 32px;\n",
              "    }\n",
              "\n",
              "    .colab-df-convert:hover {\n",
              "      background-color: #E2EBFA;\n",
              "      box-shadow: 0px 1px 2px rgba(60, 64, 67, 0.3), 0px 1px 3px 1px rgba(60, 64, 67, 0.15);\n",
              "      fill: #174EA6;\n",
              "    }\n",
              "\n",
              "    [theme=dark] .colab-df-convert {\n",
              "      background-color: #3B4455;\n",
              "      fill: #D2E3FC;\n",
              "    }\n",
              "\n",
              "    [theme=dark] .colab-df-convert:hover {\n",
              "      background-color: #434B5C;\n",
              "      box-shadow: 0px 1px 3px 1px rgba(0, 0, 0, 0.15);\n",
              "      filter: drop-shadow(0px 1px 2px rgba(0, 0, 0, 0.3));\n",
              "      fill: #FFFFFF;\n",
              "    }\n",
              "  </style>\n",
              "\n",
              "      <script>\n",
              "        const buttonEl =\n",
              "          document.querySelector('#df-0eb357df-9b6e-4df0-96e3-f7b30474b765 button.colab-df-convert');\n",
              "        buttonEl.style.display =\n",
              "          google.colab.kernel.accessAllowed ? 'block' : 'none';\n",
              "\n",
              "        async function convertToInteractive(key) {\n",
              "          const element = document.querySelector('#df-0eb357df-9b6e-4df0-96e3-f7b30474b765');\n",
              "          const dataTable =\n",
              "            await google.colab.kernel.invokeFunction('convertToInteractive',\n",
              "                                                     [key], {});\n",
              "          if (!dataTable) return;\n",
              "\n",
              "          const docLinkHtml = 'Like what you see? Visit the ' +\n",
              "            '<a target=\"_blank\" href=https://colab.research.google.com/notebooks/data_table.ipynb>data table notebook</a>'\n",
              "            + ' to learn more about interactive tables.';\n",
              "          element.innerHTML = '';\n",
              "          dataTable['output_type'] = 'display_data';\n",
              "          await google.colab.output.renderOutput(dataTable, element);\n",
              "          const docLink = document.createElement('div');\n",
              "          docLink.innerHTML = docLinkHtml;\n",
              "          element.appendChild(docLink);\n",
              "        }\n",
              "      </script>\n",
              "    </div>\n",
              "  </div>\n",
              "  "
            ]
          },
          "metadata": {},
          "execution_count": 68
        }
      ],
      "source": [
        "df['future'] = df['close'].shift(-3)    \n",
        "df"
      ]
    },
    {
      "cell_type": "markdown",
      "metadata": {
        "id": "M4Sgm6_K6SES"
      },
      "source": [
        "## Creating the target data "
      ]
    },
    {
      "cell_type": "code",
      "execution_count": 69,
      "metadata": {
        "colab": {
          "base_uri": "https://localhost:8080/",
          "height": 423
        },
        "id": "Uit5IWJ95Akx",
        "outputId": "70e9116f-0741-45c4-a0f7-6baa40fb94ce"
      },
      "outputs": [
        {
          "output_type": "execute_result",
          "data": {
            "text/plain": [
              "             time          low         high         open        close  \\\n",
              "0      1528968660  6489.549805  6489.560059  6489.560059  6489.549805   \n",
              "1      1528968720  6487.370117  6489.560059  6489.549805  6487.379883   \n",
              "2      1528968780  6479.410156  6487.370117  6487.370117  6479.410156   \n",
              "3      1528968840  6479.410156  6479.419922  6479.419922  6479.410156   \n",
              "4      1528968900  6475.930176  6479.979980  6479.410156  6479.979980   \n",
              "...           ...          ...          ...          ...          ...   \n",
              "97719  1535214960  6712.990234  6713.140137  6713.000000  6713.140137   \n",
              "97720  1535215020  6713.339844  6715.000000  6715.000000  6714.520020   \n",
              "97721  1535215080  6714.509766  6714.520020  6714.520020  6714.520020   \n",
              "97722  1535215140  6714.520020  6715.000000  6714.520020  6715.000000   \n",
              "97723  1535215200  6714.990234  6715.000000  6714.990234  6715.000000   \n",
              "\n",
              "         volume       future  target  \n",
              "0      0.587100  6479.410156       0  \n",
              "1      7.706374  6479.979980       0  \n",
              "2      3.088252  6480.000000       1  \n",
              "3      1.404100  6477.220215       0  \n",
              "4      0.753000  6480.000000       1  \n",
              "...         ...          ...     ...  \n",
              "97719  0.769891  6715.000000       1  \n",
              "97720  1.002652  6715.000000       1  \n",
              "97721  1.021925          NaN       0  \n",
              "97722  3.645508          NaN       0  \n",
              "97723  0.513560          NaN       0  \n",
              "\n",
              "[97724 rows x 8 columns]"
            ],
            "text/html": [
              "\n",
              "  <div id=\"df-36831031-44f8-4423-9527-0d481e0325b0\">\n",
              "    <div class=\"colab-df-container\">\n",
              "      <div>\n",
              "<style scoped>\n",
              "    .dataframe tbody tr th:only-of-type {\n",
              "        vertical-align: middle;\n",
              "    }\n",
              "\n",
              "    .dataframe tbody tr th {\n",
              "        vertical-align: top;\n",
              "    }\n",
              "\n",
              "    .dataframe thead th {\n",
              "        text-align: right;\n",
              "    }\n",
              "</style>\n",
              "<table border=\"1\" class=\"dataframe\">\n",
              "  <thead>\n",
              "    <tr style=\"text-align: right;\">\n",
              "      <th></th>\n",
              "      <th>time</th>\n",
              "      <th>low</th>\n",
              "      <th>high</th>\n",
              "      <th>open</th>\n",
              "      <th>close</th>\n",
              "      <th>volume</th>\n",
              "      <th>future</th>\n",
              "      <th>target</th>\n",
              "    </tr>\n",
              "  </thead>\n",
              "  <tbody>\n",
              "    <tr>\n",
              "      <th>0</th>\n",
              "      <td>1528968660</td>\n",
              "      <td>6489.549805</td>\n",
              "      <td>6489.560059</td>\n",
              "      <td>6489.560059</td>\n",
              "      <td>6489.549805</td>\n",
              "      <td>0.587100</td>\n",
              "      <td>6479.410156</td>\n",
              "      <td>0</td>\n",
              "    </tr>\n",
              "    <tr>\n",
              "      <th>1</th>\n",
              "      <td>1528968720</td>\n",
              "      <td>6487.370117</td>\n",
              "      <td>6489.560059</td>\n",
              "      <td>6489.549805</td>\n",
              "      <td>6487.379883</td>\n",
              "      <td>7.706374</td>\n",
              "      <td>6479.979980</td>\n",
              "      <td>0</td>\n",
              "    </tr>\n",
              "    <tr>\n",
              "      <th>2</th>\n",
              "      <td>1528968780</td>\n",
              "      <td>6479.410156</td>\n",
              "      <td>6487.370117</td>\n",
              "      <td>6487.370117</td>\n",
              "      <td>6479.410156</td>\n",
              "      <td>3.088252</td>\n",
              "      <td>6480.000000</td>\n",
              "      <td>1</td>\n",
              "    </tr>\n",
              "    <tr>\n",
              "      <th>3</th>\n",
              "      <td>1528968840</td>\n",
              "      <td>6479.410156</td>\n",
              "      <td>6479.419922</td>\n",
              "      <td>6479.419922</td>\n",
              "      <td>6479.410156</td>\n",
              "      <td>1.404100</td>\n",
              "      <td>6477.220215</td>\n",
              "      <td>0</td>\n",
              "    </tr>\n",
              "    <tr>\n",
              "      <th>4</th>\n",
              "      <td>1528968900</td>\n",
              "      <td>6475.930176</td>\n",
              "      <td>6479.979980</td>\n",
              "      <td>6479.410156</td>\n",
              "      <td>6479.979980</td>\n",
              "      <td>0.753000</td>\n",
              "      <td>6480.000000</td>\n",
              "      <td>1</td>\n",
              "    </tr>\n",
              "    <tr>\n",
              "      <th>...</th>\n",
              "      <td>...</td>\n",
              "      <td>...</td>\n",
              "      <td>...</td>\n",
              "      <td>...</td>\n",
              "      <td>...</td>\n",
              "      <td>...</td>\n",
              "      <td>...</td>\n",
              "      <td>...</td>\n",
              "    </tr>\n",
              "    <tr>\n",
              "      <th>97719</th>\n",
              "      <td>1535214960</td>\n",
              "      <td>6712.990234</td>\n",
              "      <td>6713.140137</td>\n",
              "      <td>6713.000000</td>\n",
              "      <td>6713.140137</td>\n",
              "      <td>0.769891</td>\n",
              "      <td>6715.000000</td>\n",
              "      <td>1</td>\n",
              "    </tr>\n",
              "    <tr>\n",
              "      <th>97720</th>\n",
              "      <td>1535215020</td>\n",
              "      <td>6713.339844</td>\n",
              "      <td>6715.000000</td>\n",
              "      <td>6715.000000</td>\n",
              "      <td>6714.520020</td>\n",
              "      <td>1.002652</td>\n",
              "      <td>6715.000000</td>\n",
              "      <td>1</td>\n",
              "    </tr>\n",
              "    <tr>\n",
              "      <th>97721</th>\n",
              "      <td>1535215080</td>\n",
              "      <td>6714.509766</td>\n",
              "      <td>6714.520020</td>\n",
              "      <td>6714.520020</td>\n",
              "      <td>6714.520020</td>\n",
              "      <td>1.021925</td>\n",
              "      <td>NaN</td>\n",
              "      <td>0</td>\n",
              "    </tr>\n",
              "    <tr>\n",
              "      <th>97722</th>\n",
              "      <td>1535215140</td>\n",
              "      <td>6714.520020</td>\n",
              "      <td>6715.000000</td>\n",
              "      <td>6714.520020</td>\n",
              "      <td>6715.000000</td>\n",
              "      <td>3.645508</td>\n",
              "      <td>NaN</td>\n",
              "      <td>0</td>\n",
              "    </tr>\n",
              "    <tr>\n",
              "      <th>97723</th>\n",
              "      <td>1535215200</td>\n",
              "      <td>6714.990234</td>\n",
              "      <td>6715.000000</td>\n",
              "      <td>6714.990234</td>\n",
              "      <td>6715.000000</td>\n",
              "      <td>0.513560</td>\n",
              "      <td>NaN</td>\n",
              "      <td>0</td>\n",
              "    </tr>\n",
              "  </tbody>\n",
              "</table>\n",
              "<p>97724 rows × 8 columns</p>\n",
              "</div>\n",
              "      <button class=\"colab-df-convert\" onclick=\"convertToInteractive('df-36831031-44f8-4423-9527-0d481e0325b0')\"\n",
              "              title=\"Convert this dataframe to an interactive table.\"\n",
              "              style=\"display:none;\">\n",
              "        \n",
              "  <svg xmlns=\"http://www.w3.org/2000/svg\" height=\"24px\"viewBox=\"0 0 24 24\"\n",
              "       width=\"24px\">\n",
              "    <path d=\"M0 0h24v24H0V0z\" fill=\"none\"/>\n",
              "    <path d=\"M18.56 5.44l.94 2.06.94-2.06 2.06-.94-2.06-.94-.94-2.06-.94 2.06-2.06.94zm-11 1L8.5 8.5l.94-2.06 2.06-.94-2.06-.94L8.5 2.5l-.94 2.06-2.06.94zm10 10l.94 2.06.94-2.06 2.06-.94-2.06-.94-.94-2.06-.94 2.06-2.06.94z\"/><path d=\"M17.41 7.96l-1.37-1.37c-.4-.4-.92-.59-1.43-.59-.52 0-1.04.2-1.43.59L10.3 9.45l-7.72 7.72c-.78.78-.78 2.05 0 2.83L4 21.41c.39.39.9.59 1.41.59.51 0 1.02-.2 1.41-.59l7.78-7.78 2.81-2.81c.8-.78.8-2.07 0-2.86zM5.41 20L4 18.59l7.72-7.72 1.47 1.35L5.41 20z\"/>\n",
              "  </svg>\n",
              "      </button>\n",
              "      \n",
              "  <style>\n",
              "    .colab-df-container {\n",
              "      display:flex;\n",
              "      flex-wrap:wrap;\n",
              "      gap: 12px;\n",
              "    }\n",
              "\n",
              "    .colab-df-convert {\n",
              "      background-color: #E8F0FE;\n",
              "      border: none;\n",
              "      border-radius: 50%;\n",
              "      cursor: pointer;\n",
              "      display: none;\n",
              "      fill: #1967D2;\n",
              "      height: 32px;\n",
              "      padding: 0 0 0 0;\n",
              "      width: 32px;\n",
              "    }\n",
              "\n",
              "    .colab-df-convert:hover {\n",
              "      background-color: #E2EBFA;\n",
              "      box-shadow: 0px 1px 2px rgba(60, 64, 67, 0.3), 0px 1px 3px 1px rgba(60, 64, 67, 0.15);\n",
              "      fill: #174EA6;\n",
              "    }\n",
              "\n",
              "    [theme=dark] .colab-df-convert {\n",
              "      background-color: #3B4455;\n",
              "      fill: #D2E3FC;\n",
              "    }\n",
              "\n",
              "    [theme=dark] .colab-df-convert:hover {\n",
              "      background-color: #434B5C;\n",
              "      box-shadow: 0px 1px 3px 1px rgba(0, 0, 0, 0.15);\n",
              "      filter: drop-shadow(0px 1px 2px rgba(0, 0, 0, 0.3));\n",
              "      fill: #FFFFFF;\n",
              "    }\n",
              "  </style>\n",
              "\n",
              "      <script>\n",
              "        const buttonEl =\n",
              "          document.querySelector('#df-36831031-44f8-4423-9527-0d481e0325b0 button.colab-df-convert');\n",
              "        buttonEl.style.display =\n",
              "          google.colab.kernel.accessAllowed ? 'block' : 'none';\n",
              "\n",
              "        async function convertToInteractive(key) {\n",
              "          const element = document.querySelector('#df-36831031-44f8-4423-9527-0d481e0325b0');\n",
              "          const dataTable =\n",
              "            await google.colab.kernel.invokeFunction('convertToInteractive',\n",
              "                                                     [key], {});\n",
              "          if (!dataTable) return;\n",
              "\n",
              "          const docLinkHtml = 'Like what you see? Visit the ' +\n",
              "            '<a target=\"_blank\" href=https://colab.research.google.com/notebooks/data_table.ipynb>data table notebook</a>'\n",
              "            + ' to learn more about interactive tables.';\n",
              "          element.innerHTML = '';\n",
              "          dataTable['output_type'] = 'display_data';\n",
              "          await google.colab.output.renderOutput(dataTable, element);\n",
              "          const docLink = document.createElement('div');\n",
              "          docLink.innerHTML = docLinkHtml;\n",
              "          element.appendChild(docLink);\n",
              "        }\n",
              "      </script>\n",
              "    </div>\n",
              "  </div>\n",
              "  "
            ]
          },
          "metadata": {},
          "execution_count": 69
        }
      ],
      "source": [
        "df['target'] = list(map(classify, df['close'], df['future']))\n",
        "df"
      ]
    },
    {
      "cell_type": "markdown",
      "metadata": {
        "id": "mOlH9vTpBGPC"
      },
      "source": [
        "# Data preprocessing"
      ]
    },
    {
      "cell_type": "markdown",
      "metadata": {
        "id": "HoibW4lA6qND"
      },
      "source": [
        " ## Normalizing and creating sequences for the data "
      ]
    },
    {
      "cell_type": "code",
      "execution_count": 70,
      "metadata": {
        "id": "Vfy0sr4i6uz7"
      },
      "outputs": [],
      "source": [
        "times = sorted(df.index.values)\n",
        "last_5_pct = times[-int(len(times)*0.05)]\n",
        "\n",
        "validation_df = df[(df.index >= last_5_pct)]\n",
        "df = df[(df.index < last_5_pct)]"
      ]
    },
    {
      "cell_type": "code",
      "execution_count": 71,
      "metadata": {
        "colab": {
          "base_uri": "https://localhost:8080/"
        },
        "id": "QrkZZqbDva0p",
        "outputId": "b5075588-5500-4ada-c09a-8e534bbcc1a9"
      },
      "outputs": [
        {
          "output_type": "execute_result",
          "data": {
            "text/plain": [
              "(92838, 8)"
            ]
          },
          "metadata": {},
          "execution_count": 71
        }
      ],
      "source": [
        "df.shape"
      ]
    },
    {
      "cell_type": "code",
      "execution_count": 72,
      "metadata": {
        "colab": {
          "base_uri": "https://localhost:8080/"
        },
        "id": "Y_kixsJkvcpa",
        "outputId": "d1a28cc5-6417-4117-84fe-9fca67449d20"
      },
      "outputs": [
        {
          "output_type": "execute_result",
          "data": {
            "text/plain": [
              "(4886, 8)"
            ]
          },
          "metadata": {},
          "execution_count": 72
        }
      ],
      "source": [
        "validation_df.shape"
      ]
    },
    {
      "cell_type": "markdown",
      "metadata": {
        "id": "VzBr_LLD8e07"
      },
      "source": [
        "Dropping all the missing values if any"
      ]
    },
    {
      "cell_type": "code",
      "execution_count": 73,
      "metadata": {
        "colab": {
          "base_uri": "https://localhost:8080/"
        },
        "id": "XBgon5mR8dTv",
        "outputId": "a492b47c-8673-4a25-a72c-19a3ba299a6e"
      },
      "outputs": [
        {
          "output_type": "execute_result",
          "data": {
            "text/plain": [
              "time      0\n",
              "low       0\n",
              "high      0\n",
              "open      0\n",
              "close     0\n",
              "volume    0\n",
              "future    0\n",
              "target    0\n",
              "dtype: int64"
            ]
          },
          "metadata": {},
          "execution_count": 73
        }
      ],
      "source": [
        "df.isnull().sum()"
      ]
    },
    {
      "cell_type": "markdown",
      "metadata": {
        "id": "iO1N4Sez8lJ9"
      },
      "source": [
        "No missing values so we continue"
      ]
    },
    {
      "cell_type": "markdown",
      "metadata": {
        "id": "C69QdErm8pjG"
      },
      "source": [
        "Function to help with the sequencues and balancing the data "
      ]
    },
    {
      "cell_type": "code",
      "execution_count": 74,
      "metadata": {
        "id": "e6UGBLFO8n-r"
      },
      "outputs": [],
      "source": [
        "SEQ_LEN = 60  # how long of a preceeding sequence to collect \n",
        "FUTURE_PERIOD_PREDICT = 3  # how far into the future are we trying to predict\n",
        "\n",
        "def preprocessor(df):\n",
        "    df = df.drop(\"future\", 1)  \n",
        "\n",
        "    for col in df.columns:  \n",
        "        if col != \"target\":  # normalize all ... except for the target itself!\n",
        "            df[col] = df[col].pct_change()  # pct change \"normalizes\" the different currencies \n",
        "            df.dropna(inplace=True)  \n",
        "            df[col] = preprocessing.scale(df[col].values)  \n",
        "\n",
        "    df.dropna(inplace=True)  # cleanup again just in case \n",
        "\n",
        "\n",
        "    sequential_data = []  # this is a list that will CONTAIN the sequences\n",
        "    prev_days = deque(maxlen=SEQ_LEN)  # These will be our actual sequences\n",
        "\n",
        "    for i in df.values:  # iterate over the values\n",
        "        prev_days.append([n for n in i[:-1]])  # store all but the target\n",
        "        if len(prev_days) == SEQ_LEN:  # make sure we have 60 sequences!\n",
        "            sequential_data.append([np.array(prev_days), i[-1]])  # append those bad boys!\n",
        "\n",
        "    random.shuffle(sequential_data)  # shuffle for good measure.\n",
        "\n",
        "    buys = []  # list that will store our buy sequences and targets\n",
        "    sells = []  # list that will store our sell sequences and targets\n",
        "\n",
        "    for seq, target in sequential_data:  # iterate over the sequential data\n",
        "        if target == 0:  # if it's a \"not buy\"\n",
        "            sells.append([seq, target])  # append to sells list\n",
        "        elif target == 1:  # otherwise if the target is a 1...\n",
        "            buys.append([seq, target])  # it's a buy!\n",
        "\n",
        "    random.shuffle(buys)  # shuffle the buys\n",
        "    random.shuffle(sells)  # shuffle the sells!\n",
        "\n",
        "    lower = min(len(buys), len(sells))  # what's the shorter length?\n",
        "\n",
        "    buys = buys[:lower]  # make sure both lists are only up to the shortest length.\n",
        "    sells = sells[:lower]  # make sure both lists are only up to the shortest length.\n",
        "\n",
        "    sequential_data = buys+sells  # add them together\n",
        "    random.shuffle(sequential_data)  # another shuffle, so the model doesn't get confused with all 1 class then the other.\n",
        "\n",
        "    X = []\n",
        "    y = []\n",
        "\n",
        "    for seq, target in sequential_data:  # going over our new sequential data\n",
        "        X.append(seq)  # X is the sequences\n",
        "        y.append(target)  # y is the targets/labels (buys vs sell/notbuy)\n",
        "\n",
        "    return np.asarray(X), y # return X and y...and make X a numpy array!\n",
        "\n"
      ]
    },
    {
      "cell_type": "markdown",
      "metadata": {
        "id": "-CNiAuP5D6-7"
      },
      "source": [
        "## Train and validation datasets "
      ]
    },
    {
      "cell_type": "code",
      "execution_count": 57,
      "metadata": {
        "colab": {
          "base_uri": "https://localhost:8080/"
        },
        "id": "zgY6z1UYDHi4",
        "outputId": "fb3d23c2-b4ac-4f9b-d233-2de055a4ef8b"
      },
      "outputs": [
        {
          "output_type": "stream",
          "name": "stderr",
          "text": [
            "<ipython-input-56-f90b5829fcda>:5: FutureWarning: In a future version of pandas all arguments of DataFrame.drop except for the argument 'labels' will be keyword-only.\n",
            "  df = df.drop(\"future\", 1)\n",
            "<ipython-input-56-f90b5829fcda>:5: FutureWarning: In a future version of pandas all arguments of DataFrame.drop except for the argument 'labels' will be keyword-only.\n",
            "  df = df.drop(\"future\", 1)\n"
          ]
        }
      ],
      "source": [
        "X_train, y_train = preprocessor(df)\n",
        "X_val, y_val = preprocessor(validation_df)\n"
      ]
    },
    {
      "cell_type": "code",
      "execution_count": 58,
      "metadata": {
        "id": "LXt3woeGK2mO"
      },
      "outputs": [],
      "source": [
        "#cast y to numpy\n",
        "y_train = np.array(y_train)\n",
        "y_val = np.array(y_val)"
      ]
    },
    {
      "cell_type": "markdown",
      "metadata": {
        "id": "lBHsSN0zD-Uh"
      },
      "source": [
        "# Creating the model"
      ]
    },
    {
      "cell_type": "code",
      "execution_count": 59,
      "metadata": {
        "colab": {
          "base_uri": "https://localhost:8080/"
        },
        "id": "Q3Gc2iYLK2mT",
        "outputId": "5f882756-094c-4414-fa1d-98c90453d912"
      },
      "outputs": [
        {
          "output_type": "execute_result",
          "data": {
            "text/plain": [
              "(83160, 60, 6)"
            ]
          },
          "metadata": {},
          "execution_count": 59
        }
      ],
      "source": [
        "X_train.shape"
      ]
    },
    {
      "cell_type": "markdown",
      "source": [
        "### RNN with a lot of params "
      ],
      "metadata": {
        "id": "N5cALqU7k1te"
      }
    },
    {
      "cell_type": "code",
      "execution_count": 60,
      "metadata": {
        "id": "f5K3YWZkD9_J",
        "colab": {
          "base_uri": "https://localhost:8080/"
        },
        "outputId": "57897fd3-49ab-45e1-8fde-2a2d19864d0f"
      },
      "outputs": [
        {
          "output_type": "stream",
          "name": "stdout",
          "text": [
            "Model: \"sequential_2\"\n",
            "_________________________________________________________________\n",
            " Layer (type)                Output Shape              Param #   \n",
            "=================================================================\n",
            " lstm_6 (LSTM)               (None, 60, 128)           69120     \n",
            "                                                                 \n",
            " dropout_8 (Dropout)         (None, 60, 128)           0         \n",
            "                                                                 \n",
            " batch_normalization_6 (Batc  (None, 60, 128)          512       \n",
            " hNormalization)                                                 \n",
            "                                                                 \n",
            " lstm_7 (LSTM)               (None, 60, 128)           131584    \n",
            "                                                                 \n",
            " dropout_9 (Dropout)         (None, 60, 128)           0         \n",
            "                                                                 \n",
            " batch_normalization_7 (Batc  (None, 60, 128)          512       \n",
            " hNormalization)                                                 \n",
            "                                                                 \n",
            " lstm_8 (LSTM)               (None, 60, 128)           131584    \n",
            "                                                                 \n",
            " dropout_10 (Dropout)        (None, 60, 128)           0         \n",
            "                                                                 \n",
            " batch_normalization_8 (Batc  (None, 60, 128)          512       \n",
            " hNormalization)                                                 \n",
            "                                                                 \n",
            " dense_4 (Dense)             (None, 60, 32)            4128      \n",
            "                                                                 \n",
            " dropout_11 (Dropout)        (None, 60, 32)            0         \n",
            "                                                                 \n",
            " dense_5 (Dense)             (None, 60, 1)             33        \n",
            "                                                                 \n",
            "=================================================================\n",
            "Total params: 337,985\n",
            "Trainable params: 337,217\n",
            "Non-trainable params: 768\n",
            "_________________________________________________________________\n"
          ]
        }
      ],
      "source": [
        "rnn1 = tensorflow.keras.models.Sequential([\n",
        "    tensorflow.keras.layers.LSTM(128, input_shape=(X_train.shape[1:]), return_sequences=True), #better stay in keras without use compact.v1\n",
        "    tensorflow.keras.layers.Dropout(0.2),\n",
        "    tensorflow.keras.layers.BatchNormalization(),\n",
        "\n",
        "    tensorflow.keras.layers.LSTM(128, return_sequences=True),\n",
        "    tensorflow.keras.layers.Dropout(0.1),\n",
        "    tensorflow.keras.layers.BatchNormalization(),\n",
        "    \n",
        "    tensorflow.keras.layers.LSTM(128, return_sequences=True),\n",
        "    tensorflow.keras.layers.Dropout(0.2),\n",
        "    tensorflow.keras.layers.BatchNormalization(),\n",
        "\n",
        "    tensorflow.keras.layers.Dense(32, activation='relu'),\n",
        "    tensorflow.keras.layers.Dropout(0.2),\n",
        "\n",
        "    tensorflow.keras.layers.Dense(1, activation='sigmoid')\n",
        "\n",
        "])\n",
        "\n",
        "rnn1.summary()"
      ]
    },
    {
      "cell_type": "code",
      "execution_count": 61,
      "metadata": {
        "id": "388bajXVFqaH"
      },
      "outputs": [],
      "source": [
        "\n",
        "# Compile model\n",
        "rnn1.compile(\n",
        "    loss='mse', \n",
        "    optimizer='adam',\n",
        "    metrics=['accuracy']\n",
        ")"
      ]
    },
    {
      "cell_type": "markdown",
      "source": [
        "### RNN with less parameters "
      ],
      "metadata": {
        "id": "3b_p_AHdktRX"
      }
    },
    {
      "cell_type": "code",
      "source": [
        "rnn2 = tensorflow.keras.models.Sequential([\n",
        "    tensorflow.keras.layers.LSTM(128, input_shape=(X_train.shape[1:]), return_sequences=True), #better stay in keras without use compact.v1\n",
        "    tensorflow.keras.layers.Dropout(0.2),\n",
        "    tensorflow.keras.layers.BatchNormalization(),\n",
        "\n",
        "    tensorflow.keras.layers.LSTM(64, return_sequences=True),\n",
        "    tensorflow.keras.layers.Dropout(0.1),\n",
        "    tensorflow.keras.layers.BatchNormalization(),\n",
        "    \n",
        "    tensorflow.keras.layers.LSTM(32, return_sequences=True),\n",
        "    tensorflow.keras.layers.Dropout(0.1),\n",
        "    tensorflow.keras.layers.BatchNormalization(),\n",
        "\n",
        "    tensorflow.keras.layers.Dense(32, activation='relu'),\n",
        "    tensorflow.keras.layers.Dropout(0.2),\n",
        "\n",
        "    tensorflow.keras.layers.Dense(1, activation='sigmoid')\n",
        "\n",
        "])\n",
        "\n",
        "rnn2.summary()"
      ],
      "metadata": {
        "colab": {
          "base_uri": "https://localhost:8080/"
        },
        "id": "YxBX2XzYkrPy",
        "outputId": "29622663-3b5e-4f5b-c127-f3a067d98489"
      },
      "execution_count": 85,
      "outputs": [
        {
          "output_type": "stream",
          "name": "stdout",
          "text": [
            "Model: \"sequential_3\"\n",
            "_________________________________________________________________\n",
            " Layer (type)                Output Shape              Param #   \n",
            "=================================================================\n",
            " lstm_9 (LSTM)               (None, 60, 128)           69120     \n",
            "                                                                 \n",
            " dropout_12 (Dropout)        (None, 60, 128)           0         \n",
            "                                                                 \n",
            " batch_normalization_9 (Batc  (None, 60, 128)          512       \n",
            " hNormalization)                                                 \n",
            "                                                                 \n",
            " lstm_10 (LSTM)              (None, 60, 64)            49408     \n",
            "                                                                 \n",
            " dropout_13 (Dropout)        (None, 60, 64)            0         \n",
            "                                                                 \n",
            " batch_normalization_10 (Bat  (None, 60, 64)           256       \n",
            " chNormalization)                                                \n",
            "                                                                 \n",
            " lstm_11 (LSTM)              (None, 60, 32)            12416     \n",
            "                                                                 \n",
            " dropout_14 (Dropout)        (None, 60, 32)            0         \n",
            "                                                                 \n",
            " batch_normalization_11 (Bat  (None, 60, 32)           128       \n",
            " chNormalization)                                                \n",
            "                                                                 \n",
            " dense_6 (Dense)             (None, 60, 32)            1056      \n",
            "                                                                 \n",
            " dropout_15 (Dropout)        (None, 60, 32)            0         \n",
            "                                                                 \n",
            " dense_7 (Dense)             (None, 60, 1)             33        \n",
            "                                                                 \n",
            "=================================================================\n",
            "Total params: 132,929\n",
            "Trainable params: 132,481\n",
            "Non-trainable params: 448\n",
            "_________________________________________________________________\n"
          ]
        }
      ]
    },
    {
      "cell_type": "code",
      "source": [
        "# Compile model\n",
        "rnn2.compile(\n",
        "    loss='mse', \n",
        "    optimizer='adam',\n",
        "    metrics=['accuracy']\n",
        ")"
      ],
      "metadata": {
        "id": "eYTf3H2ek866"
      },
      "execution_count": 89,
      "outputs": []
    },
    {
      "cell_type": "markdown",
      "source": [
        "### RNN with less layers and less parameters "
      ],
      "metadata": {
        "id": "rfbO2FBLlMCd"
      }
    },
    {
      "cell_type": "code",
      "source": [
        "rnn3 = tensorflow.keras.models.Sequential([\n",
        "    tensorflow.keras.layers.LSTM(64, input_shape=(X_train.shape[1:]), return_sequences=True),\n",
        "    tensorflow.keras.layers.Dropout(0.1),\n",
        "    tensorflow.keras.layers.BatchNormalization(),\n",
        "    \n",
        "    tensorflow.keras.layers.LSTM(32, return_sequences=True),\n",
        "    tensorflow.keras.layers.Dropout(0.1),\n",
        "    tensorflow.keras.layers.BatchNormalization(),\n",
        "\n",
        "    tensorflow.keras.layers.Dense(32, activation='relu'),\n",
        "    tensorflow.keras.layers.Dropout(0.2),\n",
        "\n",
        "    tensorflow.keras.layers.Dense(1, activation='sigmoid')\n",
        "\n",
        "])\n",
        "\n",
        "rnn3.summary()"
      ],
      "metadata": {
        "colab": {
          "base_uri": "https://localhost:8080/"
        },
        "id": "Zob1dMIklQHm",
        "outputId": "d1d7a431-c262-4eb6-e368-82e1a36dc98e"
      },
      "execution_count": 91,
      "outputs": [
        {
          "output_type": "stream",
          "name": "stdout",
          "text": [
            "Model: \"sequential_6\"\n",
            "_________________________________________________________________\n",
            " Layer (type)                Output Shape              Param #   \n",
            "=================================================================\n",
            " lstm_16 (LSTM)              (None, 60, 64)            18176     \n",
            "                                                                 \n",
            " dropout_22 (Dropout)        (None, 60, 64)            0         \n",
            "                                                                 \n",
            " batch_normalization_16 (Bat  (None, 60, 64)           256       \n",
            " chNormalization)                                                \n",
            "                                                                 \n",
            " lstm_17 (LSTM)              (None, 60, 32)            12416     \n",
            "                                                                 \n",
            " dropout_23 (Dropout)        (None, 60, 32)            0         \n",
            "                                                                 \n",
            " batch_normalization_17 (Bat  (None, 60, 32)           128       \n",
            " chNormalization)                                                \n",
            "                                                                 \n",
            " dense_12 (Dense)            (None, 60, 32)            1056      \n",
            "                                                                 \n",
            " dropout_24 (Dropout)        (None, 60, 32)            0         \n",
            "                                                                 \n",
            " dense_13 (Dense)            (None, 60, 1)             33        \n",
            "                                                                 \n",
            "=================================================================\n",
            "Total params: 32,065\n",
            "Trainable params: 31,873\n",
            "Non-trainable params: 192\n",
            "_________________________________________________________________\n"
          ]
        }
      ]
    },
    {
      "cell_type": "code",
      "source": [
        "# Compile model\n",
        "rnn3.compile(\n",
        "    loss='mse', \n",
        "    optimizer='adam',\n",
        "    metrics=['accuracy']\n",
        ")"
      ],
      "metadata": {
        "id": "Fyq7rAjRlXAm"
      },
      "execution_count": 92,
      "outputs": []
    },
    {
      "cell_type": "markdown",
      "source": [
        "# Training all the models "
      ],
      "metadata": {
        "id": "w3wS6Z2-llhP"
      }
    },
    {
      "cell_type": "markdown",
      "source": [
        "### First model"
      ],
      "metadata": {
        "id": "jLyAm6P8lzt7"
      }
    },
    {
      "cell_type": "code",
      "execution_count": 84,
      "metadata": {
        "colab": {
          "base_uri": "https://localhost:8080/"
        },
        "id": "AiuaV25UF6gD",
        "outputId": "9d138dc2-c219-4285-c746-39b32dec6ff4"
      },
      "outputs": [
        {
          "output_type": "stream",
          "name": "stdout",
          "text": [
            "Epoch 1/10\n",
            "1300/1300 [==============================] - 748s 567ms/step - loss: 0.2515 - accuracy: 0.4987 - val_loss: 0.2500 - val_accuracy: 0.4998\n",
            "Epoch 2/10\n",
            "1300/1300 [==============================] - 620s 477ms/step - loss: 0.2500 - accuracy: 0.4971 - val_loss: 0.2500 - val_accuracy: 0.5000\n",
            "Epoch 3/10\n",
            "1300/1300 [==============================] - 607s 467ms/step - loss: 0.2500 - accuracy: 0.4984 - val_loss: 0.2500 - val_accuracy: 0.4999\n",
            "Epoch 4/10\n",
            "1300/1300 [==============================] - 616s 473ms/step - loss: 0.2500 - accuracy: 0.5003 - val_loss: 0.2500 - val_accuracy: 0.5000\n",
            "Epoch 5/10\n",
            "1300/1300 [==============================] - 613s 471ms/step - loss: 0.2500 - accuracy: 0.5026 - val_loss: 0.2500 - val_accuracy: 0.5000\n",
            "Epoch 6/10\n",
            "1300/1300 [==============================] - 615s 473ms/step - loss: 0.2500 - accuracy: 0.4993 - val_loss: 0.2500 - val_accuracy: 0.5000\n",
            "Epoch 7/10\n",
            "1300/1300 [==============================] - 603s 464ms/step - loss: 0.2500 - accuracy: 0.4996 - val_loss: 0.2500 - val_accuracy: 0.5000\n",
            "Epoch 8/10\n",
            "1300/1300 [==============================] - 671s 516ms/step - loss: 0.2500 - accuracy: 0.4969 - val_loss: 0.2500 - val_accuracy: 0.5000\n",
            "Epoch 9/10\n",
            "1300/1300 [==============================] - 603s 463ms/step - loss: 0.2500 - accuracy: 0.5004 - val_loss: 0.2500 - val_accuracy: 0.5000\n",
            "Epoch 10/10\n",
            "1300/1300 [==============================] - 594s 457ms/step - loss: 0.2500 - accuracy: 0.4992 - val_loss: 0.2500 - val_accuracy: 0.5000\n"
          ]
        }
      ],
      "source": [
        "history1 = rnn1.fit(\n",
        "    X_train, y_train,\n",
        "    batch_size=64,\n",
        "    epochs=10,\n",
        "    validation_data=(X_val, y_val)\n",
        ")\n"
      ]
    },
    {
      "cell_type": "markdown",
      "source": [
        "### Second model"
      ],
      "metadata": {
        "id": "mz6xt8fEl5Rw"
      }
    },
    {
      "cell_type": "code",
      "source": [
        "history2 = rnn2.fit(\n",
        "    X_train, y_train,\n",
        "    batch_size=64,\n",
        "    epochs=10,\n",
        "    validation_data=(X_val, y_val)\n",
        ")\n"
      ],
      "metadata": {
        "colab": {
          "base_uri": "https://localhost:8080/"
        },
        "id": "YA0UNwLylDKz",
        "outputId": "05fa2540-1933-4c96-c1bd-caf883f11413"
      },
      "execution_count": 97,
      "outputs": [
        {
          "output_type": "stream",
          "name": "stdout",
          "text": [
            "Epoch 1/10\n",
            "1300/1300 [==============================] - 376s 282ms/step - loss: 0.2516 - accuracy: 0.5006 - val_loss: 0.2500 - val_accuracy: 0.5000\n",
            "Epoch 2/10\n",
            "1300/1300 [==============================] - 360s 277ms/step - loss: 0.2500 - accuracy: 0.4975 - val_loss: 0.2500 - val_accuracy: 0.5000\n",
            "Epoch 3/10\n",
            "1300/1300 [==============================] - 363s 279ms/step - loss: 0.2500 - accuracy: 0.5001 - val_loss: 0.2500 - val_accuracy: 0.5000\n",
            "Epoch 4/10\n",
            "1300/1300 [==============================] - 365s 281ms/step - loss: 0.2500 - accuracy: 0.5015 - val_loss: 0.2500 - val_accuracy: 0.5000\n",
            "Epoch 5/10\n",
            "1300/1300 [==============================] - 363s 279ms/step - loss: 0.2500 - accuracy: 0.4977 - val_loss: 0.2500 - val_accuracy: 0.5000\n",
            "Epoch 6/10\n",
            "1300/1300 [==============================] - 365s 281ms/step - loss: 0.2500 - accuracy: 0.5007 - val_loss: 0.2500 - val_accuracy: 0.5000\n",
            "Epoch 7/10\n",
            "1300/1300 [==============================] - 364s 280ms/step - loss: 0.2500 - accuracy: 0.5011 - val_loss: 0.2500 - val_accuracy: 0.5000\n",
            "Epoch 8/10\n",
            "1300/1300 [==============================] - 346s 266ms/step - loss: 0.2500 - accuracy: 0.4970 - val_loss: 0.2500 - val_accuracy: 0.5000\n",
            "Epoch 9/10\n",
            "1300/1300 [==============================] - 345s 265ms/step - loss: 0.2500 - accuracy: 0.4996 - val_loss: 0.2500 - val_accuracy: 0.5000\n",
            "Epoch 10/10\n",
            "1300/1300 [==============================] - 345s 266ms/step - loss: 0.2500 - accuracy: 0.4987 - val_loss: 0.2500 - val_accuracy: 0.5000\n"
          ]
        }
      ]
    },
    {
      "cell_type": "markdown",
      "source": [
        "Third model"
      ],
      "metadata": {
        "id": "zxbq63xLl7gS"
      }
    },
    {
      "cell_type": "code",
      "source": [
        "history3 = rnn3.fit(\n",
        "    X_train, y_train,\n",
        "    batch_size=64,\n",
        "    epochs=10,\n",
        "    validation_data=(X_val, y_val)\n",
        ")\n"
      ],
      "metadata": {
        "colab": {
          "base_uri": "https://localhost:8080/"
        },
        "id": "7bBoZj7YlYZ0",
        "outputId": "5279f587-aaa5-4fb1-b6fd-297306ac97ab"
      },
      "execution_count": 98,
      "outputs": [
        {
          "output_type": "stream",
          "name": "stdout",
          "text": [
            "Epoch 1/10\n",
            "1300/1300 [==============================] - 142s 104ms/step - loss: 0.2515 - accuracy: 0.4994 - val_loss: 0.2502 - val_accuracy: 0.4999\n",
            "Epoch 2/10\n",
            "1300/1300 [==============================] - 135s 104ms/step - loss: 0.2501 - accuracy: 0.4999 - val_loss: 0.2501 - val_accuracy: 0.5001\n",
            "Epoch 3/10\n",
            "1300/1300 [==============================] - 138s 106ms/step - loss: 0.2500 - accuracy: 0.4994 - val_loss: 0.2500 - val_accuracy: 0.4996\n",
            "Epoch 4/10\n",
            "1300/1300 [==============================] - 135s 104ms/step - loss: 0.2500 - accuracy: 0.4980 - val_loss: 0.2500 - val_accuracy: 0.4998\n",
            "Epoch 5/10\n",
            "1300/1300 [==============================] - 134s 103ms/step - loss: 0.2500 - accuracy: 0.4996 - val_loss: 0.2500 - val_accuracy: 0.5000\n",
            "Epoch 6/10\n",
            "1300/1300 [==============================] - 136s 105ms/step - loss: 0.2500 - accuracy: 0.4997 - val_loss: 0.2500 - val_accuracy: 0.5000\n",
            "Epoch 7/10\n",
            "1300/1300 [==============================] - 135s 104ms/step - loss: 0.2500 - accuracy: 0.4974 - val_loss: 0.2500 - val_accuracy: 0.5000\n",
            "Epoch 8/10\n",
            "1300/1300 [==============================] - 136s 104ms/step - loss: 0.2500 - accuracy: 0.5003 - val_loss: 0.2500 - val_accuracy: 0.5000\n",
            "Epoch 9/10\n",
            "1300/1300 [==============================] - 135s 104ms/step - loss: 0.2500 - accuracy: 0.5013 - val_loss: 0.2500 - val_accuracy: 0.5000\n",
            "Epoch 10/10\n",
            "1300/1300 [==============================] - 135s 104ms/step - loss: 0.2500 - accuracy: 0.5002 - val_loss: 0.2500 - val_accuracy: 0.5001\n"
          ]
        }
      ]
    },
    {
      "cell_type": "markdown",
      "source": [
        "#Evaluation "
      ],
      "metadata": {
        "id": "XXmkreaTWs8v"
      }
    },
    {
      "cell_type": "markdown",
      "source": [
        "First model"
      ],
      "metadata": {
        "id": "QSri_bR5ZhTP"
      }
    },
    {
      "cell_type": "code",
      "source": [
        "plt.plot(history1.history['accuracy'])\n",
        "plt.plot(history1.history['val_accuracy'])\n",
        "plt.ylim([0.48, 0.52])\n",
        "plt.title('model accuracy')\n",
        "plt.ylabel('accuracy')\n",
        "plt.xlabel('epoch')\n",
        "plt.legend(['train', 'test'], loc='upper left')\n",
        "plt.show()"
      ],
      "metadata": {
        "colab": {
          "base_uri": "https://localhost:8080/",
          "height": 472
        },
        "id": "e3rmEM2e9DbJ",
        "outputId": "8deb54ca-169b-410f-987e-c334a4e5f686"
      },
      "execution_count": 121,
      "outputs": [
        {
          "output_type": "display_data",
          "data": {
            "text/plain": [
              "<Figure size 640x480 with 1 Axes>"
            ],
            "image/png": "[encoded data removed]"
          },
          "metadata": {}
        }
      ]
    },
    {
      "cell_type": "markdown",
      "source": [
        "Second model"
      ],
      "metadata": {
        "id": "6HUMh0KHZc1K"
      }
    },
    {
      "cell_type": "code",
      "source": [
        "plt.plot(history2.history['accuracy'])\n",
        "plt.plot(history2.history['val_accuracy'])\n",
        "plt.ylim([0.48, 0.52])\n",
        "plt.title('model accuracy')\n",
        "plt.ylabel('accuracy')\n",
        "plt.xlabel('epoch')\n",
        "plt.legend(['train', 'test'], loc='upper left')\n",
        "plt.show()"
      ],
      "metadata": {
        "colab": {
          "base_uri": "https://localhost:8080/",
          "height": 472
        },
        "id": "IWvVQmW0WwYV",
        "outputId": "876c38bd-7ecd-4269-89bc-855eda07a2d2"
      },
      "execution_count": 120,
      "outputs": [
        {
          "output_type": "display_data",
          "data": {
            "text/plain": [
              "<Figure size 640x480 with 1 Axes>"
            ],
            "image/png": "[encoded data removed]"
          },
          "metadata": {}
        }
      ]
    },
    {
      "cell_type": "markdown",
      "source": [
        "Third model"
      ],
      "metadata": {
        "id": "0kXJ9LABZZby"
      }
    },
    {
      "cell_type": "code",
      "source": [
        "plt.plot(history3.history['accuracy'])\n",
        "plt.plot(history3.history['val_accuracy'])\n",
        "plt.ylim([0.48, 0.52])\n",
        "plt.title('model accuracy')\n",
        "plt.ylabel('accuracy')\n",
        "plt.xlabel('epoch')\n",
        "plt.legend(['train', 'test'], loc='upper left')\n",
        "plt.show()"
      ],
      "metadata": {
        "colab": {
          "base_uri": "https://localhost:8080/",
          "height": 472
        },
        "id": "reETLnhmW2pN",
        "outputId": "4c6a732b-b04e-4ca4-f6fe-b27910f9e44b"
      },
      "execution_count": 119,
      "outputs": [
        {
          "output_type": "display_data",
          "data": {
            "text/plain": [
              "<Figure size 640x480 with 1 Axes>"
            ],
            "image/png": "[encoded data removed]"
          },
          "metadata": {}
        }
      ]
    },
    {
      "cell_type": "markdown",
      "source": [
        "## Comparing the accuracies of each model"
      ],
      "metadata": {
        "id": "bk2_C9znY73Y"
      }
    },
    {
      "cell_type": "code",
      "source": [
        "plt.plot(history1.history['accuracy'])\n",
        "plt.plot(history2.history['accuracy'])\n",
        "plt.plot(history3.history['accuracy'])\n",
        "plt.ylim([0.48, 0.52])\n",
        "plt.title('model accuracy')\n",
        "plt.ylabel('accuracy', )\n",
        "plt.xlabel('epoch')\n",
        "plt.legend(['rnn1', 'rnn2', 'rnn3'], loc='upper left')\n",
        "plt.show()"
      ],
      "metadata": {
        "colab": {
          "base_uri": "https://localhost:8080/",
          "height": 472
        },
        "id": "KIn53nJ8XZPi",
        "outputId": "f3936962-a0a1-44f8-ddeb-9706d5e5943b"
      },
      "execution_count": 118,
      "outputs": [
        {
          "output_type": "display_data",
          "data": {
            "text/plain": [
              "<Figure size 640x480 with 1 Axes>"
            ],
            "image/png": "[encoded data removed]"
          },
          "metadata": {}
        }
      ]
    },
    {
      "cell_type": "markdown",
      "source": [
        "# Conclusion"
      ],
      "metadata": {
        "id": "BxgT3gX-Z_dO"
      }
    },
    {
      "cell_type": "markdown",
      "source": [
        "All the models are converging pretty well and none of them is overfitting or underfitting. We can see some slightly better performance on the second model which has less parameters and less layers than the first model. We can say that a large number of layers and parameters doesnt necessary mean better accuracy. In this case the model with less than half the parameters was more accurate, more efficient and less expensive to run."
      ],
      "metadata": {
        "id": "Xyc1sI0YaIN-"
      }
    }
  ],
  "metadata": {
    "colab": {
      "provenance": []
    },
    "kernelspec": {
      "display_name": "Python 3.10.6 64-bit",
      "language": "python",
      "name": "python3"
    },
    "language_info": {
      "codemirror_mode": {
        "name": "ipython",
        "version": 3
      },
      "file_extension": ".py",
      "mimetype": "text/x-python",
      "name": "python",
      "nbconvert_exporter": "python",
      "pygments_lexer": "ipython3",
      "version": "3.10.6"
    },
    "vscode": {
      "interpreter": {
        "hash": "916dbcbb3f70747c44a77c7bcd40155683ae19c65e1c03b4aa3499c5328201f1"
      }
    }
  },
  "nbformat": 4,
  "nbformat_minor": 0
}